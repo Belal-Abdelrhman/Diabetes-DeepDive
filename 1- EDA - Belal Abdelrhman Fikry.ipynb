{
 "cells": [
  {
   "cell_type": "code",
   "execution_count": null,
   "id": "9bd82c57-33d9-45af-a260-f49af98c50f5",
   "metadata": {},
   "outputs": [],
   "source": [
    "import pandas as pd\n",
    "import numpy as np\n",
    "import matplotlib.pyplot as plt\n",
    "import seaborn as sns\n",
    "import plotly.express as px"
   ]
  },
  {
   "cell_type": "code",
   "execution_count": null,
   "id": "3af1bf61-c80f-44c3-ac60-da2432548ff4",
   "metadata": {},
   "outputs": [],
   "source": [
    "df = pd.read_csv(\"diabetes.csv\")\n",
    "df.head()"
   ]
  },
  {
   "cell_type": "code",
   "execution_count": null,
   "id": "591a3a64-7cf5-4cb9-9603-752c382d58ff",
   "metadata": {},
   "outputs": [],
   "source": [
    "df.info()"
   ]
  },
  {
   "cell_type": "code",
   "execution_count": null,
   "id": "99ede68d-b3a4-458c-8d08-41ca4adc302d",
   "metadata": {},
   "outputs": [],
   "source": [
    "df.describe()"
   ]
  },
  {
   "cell_type": "markdown",
   "id": "05432990-f08e-470e-bc0e-3880790f5a0a",
   "metadata": {},
   "source": [
    "# Data Exploration\n",
    "* Duplication\n",
    "* Missing Values\n",
    "* Columns data type\n",
    "* Summary statistics \n",
    "* Outliers "
   ]
  },
  {
   "cell_type": "markdown",
   "id": "fd6ceed9-e578-4987-8bed-7757c3e5ac78",
   "metadata": {},
   "source": [
    "* Duplicationrs "
   ]
  },
  {
   "cell_type": "code",
   "execution_count": null,
   "id": "dfae7fcc-fa43-4e01-8416-855b48b0d148",
   "metadata": {},
   "outputs": [],
   "source": [
    "print('duplicate values : ' , df.duplicated().sum())"
   ]
  },
  {
   "cell_type": "markdown",
   "id": "33d6b851-096f-4f17-96d8-208df0f92311",
   "metadata": {},
   "source": [
    "* Missing Values"
   ]
  },
  {
   "cell_type": "code",
   "execution_count": null,
   "id": "6995d2a8-7c89-4906-bd08-489d4c2e6805",
   "metadata": {},
   "outputs": [],
   "source": [
    "print('null values : \\n' , df.isnull().sum())"
   ]
  },
  {
   "cell_type": "markdown",
   "id": "44edd6c0-84da-49f4-8850-9bca059bb193",
   "metadata": {},
   "source": [
    "* Columns data type"
   ]
  },
  {
   "cell_type": "code",
   "execution_count": null,
   "id": "4a94c6f6-f074-4499-b886-60f27b59b51a",
   "metadata": {},
   "outputs": [],
   "source": [
    "df.dtypes"
   ]
  },
  {
   "cell_type": "markdown",
   "id": "483af668-5147-4026-9cf8-25261704813c",
   "metadata": {},
   "source": [
    "* Outliers "
   ]
  },
  {
   "cell_type": "code",
   "execution_count": null,
   "id": "bfe880fe-58a8-40f8-b338-ff43a08841fb",
   "metadata": {},
   "outputs": [],
   "source": [
    "def remove_outliers_iqr(df):\n",
    "    df_cleaned = df.copy()       \n",
    "    for column in df_cleaned.columns:\n",
    "        Q1 = df_cleaned[column].quantile(0.25)\n",
    "        Q3 = df_cleaned[column].quantile(0.75)\n",
    "        IQR = Q3 - Q1\n",
    "        \n",
    "        lower_bound = Q1 - 1.5 * IQR\n",
    "        upper_bound = Q3 + 1.5 * IQR\n",
    "        \n",
    "        df_cleaned = df_cleaned[ (df_cleaned[column] >= lower_bound) & (df_cleaned[column] <= upper_bound) ]\n",
    "    return df_cleaned\n",
    "\n",
    "\n",
    "df_cleaned = remove_outliers_iqr(df)\n",
    "\n",
    "print(f\"Original number of records : {df.shape[0]}\")\n",
    "print(f\"Number of records after removing outliers : {df_cleaned.shape[0]}\")\n"
   ]
  },
  {
   "cell_type": "code",
   "execution_count": null,
   "id": "b4e7dc92-df4c-4957-819b-ef93ebb7cfb7",
   "metadata": {},
   "outputs": [],
   "source": [
    "def remove_outliers_iqr(df):\n",
    "    df_cleaned = df.copy()       \n",
    "    for column in df_cleaned.columns:\n",
    "        Q1 = df_cleaned[column].quantile(0.25)\n",
    "        Q3 = df_cleaned[column].quantile(0.75)\n",
    "        IQR = Q3 - Q1\n",
    "        \n",
    "        lower_bound = Q1 - 1.5 * IQR\n",
    "        upper_bound = Q3 + 1.5 * IQR\n",
    "        \n",
    "        df_cleaned = df_cleaned[ (df_cleaned[column] >= lower_bound) & (df_cleaned[column] <= upper_bound) ]\n",
    "    return df_cleaned\n",
    "\n",
    "\n",
    "df_cleaned = remove_outliers_iqr(df)\n",
    "\n",
    "print(f\"Original number of records : {df.shape[0]}\")\n",
    "print(f\"Number of records after removing outliers : {df_cleaned.shape[0]}\")"
   ]
  },
  {
   "cell_type": "code",
   "execution_count": null,
   "id": "45ec4e95-f094-486d-8cb4-b7e2da0308bc",
   "metadata": {},
   "outputs": [],
   "source": [
    "df_cleaned.head()"
   ]
  },
  {
   "cell_type": "code",
   "execution_count": null,
   "id": "faa60999-0e78-4563-92b6-f3a089a2f929",
   "metadata": {},
   "outputs": [],
   "source": [
    "df_cleaned.to_csv('cleaned_data.csv', index=False)"
   ]
  },
  {
   "cell_type": "markdown",
   "id": "9d457c54-87ae-4856-ada3-02440c6c0741",
   "metadata": {},
   "source": [
    "# Data Visualizations"
   ]
  },
  {
   "cell_type": "code",
   "execution_count": null,
   "id": "c16c59f2-5c44-4674-a0f9-e0ac46101a97",
   "metadata": {},
   "outputs": [],
   "source": [
    "plt.figure(figsize=(5, 4))\n",
    "\n",
    "sns.countplot(x='Outcome', data=df)\n",
    "plt.title('Distribution of Outcome Variable')\n",
    "plt.show()\n"
   ]
  },
  {
   "cell_type": "code",
   "execution_count": null,
   "id": "dcc80b2a-a98c-4638-9a5c-e63e0b020027",
   "metadata": {},
   "outputs": [],
   "source": [
    "fig = px.histogram(df, x='Glucose', title='Distribution of Glucose Levels')\n",
    "fig.show()"
   ]
  },
  {
   "cell_type": "code",
   "execution_count": null,
   "id": "574c7f94-ca88-496b-8618-0c4658351251",
   "metadata": {},
   "outputs": [],
   "source": [
    "sns.pairplot(df[['Glucose', 'BMI', 'Age', 'Insulin']])\n",
    "plt.show()\n"
   ]
  },
  {
   "cell_type": "code",
   "execution_count": null,
   "id": "f7dca91c-79b9-47c7-980d-edfd0576fd82",
   "metadata": {},
   "outputs": [],
   "source": [
    "corr = df.corr()\n",
    "sns.heatmap(corr, annot=True, cmap='coolwarm')\n",
    "plt.show()\n"
   ]
  },
  {
   "cell_type": "code",
   "execution_count": null,
   "id": "56a650c5-bc78-4c36-af41-81cc843abdfe",
   "metadata": {},
   "outputs": [],
   "source": [
    "average_bmi = df.groupby('Outcome')['BMI'].mean().reset_index()\n",
    "\n",
    "plt.figure(figsize=(10, 8))\n",
    "\n",
    "fig = px.bar(average_bmi, x='Outcome', y='BMI',\n",
    "             title='Average BMI by Outcome',\n",
    "             labels={'Outcome': 'Diabetes Outcome', 'BMI': 'Average BMI'})\n",
    "\n",
    "fig.update_traces(text=average_bmi['BMI'], textposition='outside')\n",
    "\n",
    "fig.update_layout(\n",
    "    xaxis_title = 'Diabetes Outcome',\n",
    "    yaxis_title = 'Average BMI',\n",
    "    title       = 'Average BMI by Outcome',\n",
    "    height      =  600,\n",
    "    width       =  600 \n",
    ")\n",
    "\n",
    "fig.show()\n"
   ]
  },
  {
   "cell_type": "code",
   "execution_count": null,
   "id": "900cc0e0-b37e-490f-9ae3-a281d8e2dd19",
   "metadata": {},
   "outputs": [],
   "source": [
    "average_bmi = df.groupby('Outcome')['Age'].mean().reset_index()\n",
    "\n",
    "plt.figure(figsize=(10, 8))\n",
    "\n",
    "fig = px.bar(average_bmi, x='Outcome', y='Age',\n",
    "             title='Average Age by Outcome',\n",
    "             labels={'Outcome': 'Diabetes Outcome', 'Age': 'Average Age'})\n",
    "\n",
    "fig.update_traces(text=average_bmi['Age'], textposition='outside')\n",
    "\n",
    "fig.update_layout(\n",
    "    xaxis_title = 'Diabetes Outcome',\n",
    "    yaxis_title = 'Average Age',\n",
    "    title       = 'Average Age by Outcome',\n",
    "    height      =  600,\n",
    "    width       =  600 \n",
    ")\n",
    "\n",
    "fig.show()\n"
   ]
  },
  {
   "cell_type": "code",
   "execution_count": null,
   "id": "5bc797d9-4198-43e5-ae1a-1a8669bf8152",
   "metadata": {},
   "outputs": [],
   "source": [
    "fig = px.bar(df, x='Age', y=\"BMI\", title='BMI By Age',\n",
    "              color_discrete_sequence=px.colors.qualitative.Dark2)\n",
    "\n",
    "fig.update_layout(\n",
    "    template='seaborn')\n",
    "\n",
    "fig.show()"
   ]
  },
  {
   "cell_type": "code",
   "execution_count": null,
   "id": "677e2b31-8cec-4847-ad1c-1a2ec25b0c7a",
   "metadata": {},
   "outputs": [],
   "source": []
  }
 ],
 "metadata": {
  "kernelspec": {
   "display_name": "Python 3 (ipykernel)",
   "language": "python",
   "name": "python3"
  },
  "language_info": {
   "codemirror_mode": {
    "name": "ipython",
    "version": 3
   },
   "file_extension": ".py",
   "mimetype": "text/x-python",
   "name": "python",
   "nbconvert_exporter": "python",
   "pygments_lexer": "ipython3",
   "version": "3.12.4"
  }
 },
 "nbformat": 4,
 "nbformat_minor": 5
}
